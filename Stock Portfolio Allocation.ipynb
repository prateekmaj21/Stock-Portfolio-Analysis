{
 "cells": [
  {
   "cell_type": "markdown",
   "metadata": {},
   "source": [
    "# Stock Portfolio Allocation"
   ]
  },
  {
   "cell_type": "markdown",
   "metadata": {},
   "source": [
    "Here, we work on stock portfolio allocation and analysis."
   ]
  },
  {
   "cell_type": "code",
   "execution_count": 65,
   "metadata": {},
   "outputs": [],
   "source": [
    "import warnings\n",
    "warnings.filterwarnings('ignore')  # Hide warnings\n",
    "import datetime as dt\n",
    "import pandas as pd\n",
    "pd.core.common.is_list_like = pd.api.types.is_list_like\n",
    "import pandas_datareader.data as web\n",
    "import numpy as np\n",
    "import matplotlib.pyplot as plt\n",
    "import seaborn as sns"
   ]
  },
  {
   "cell_type": "markdown",
   "metadata": {},
   "source": [
    "Let us take stocks from 1st Jan 2018 to the current date."
   ]
  },
  {
   "cell_type": "code",
   "execution_count": 66,
   "metadata": {},
   "outputs": [],
   "source": [
    "start = dt.datetime(2021, 1, 1)\n",
    "end = dt.datetime.now()"
   ]
  },
  {
   "cell_type": "markdown",
   "metadata": {},
   "source": [
    "Let us take AAPL, GOOG, CSCO and IBM."
   ]
  },
  {
   "cell_type": "code",
   "execution_count": 67,
   "metadata": {},
   "outputs": [],
   "source": [
    "aapl = web.DataReader(\"AAPL\", 'yahoo', start, end)  # Collects data\n",
    "aapl.reset_index(inplace=True)\n",
    "aapl.set_index(\"Date\", inplace=True)"
   ]
  },
  {
   "cell_type": "code",
   "execution_count": 68,
   "metadata": {},
   "outputs": [],
   "source": [
    "goog = web.DataReader(\"GOOG\", 'yahoo', start, end)  # Collects data\n",
    "goog.reset_index(inplace=True)\n",
    "goog.set_index(\"Date\", inplace=True)"
   ]
  },
  {
   "cell_type": "code",
   "execution_count": 69,
   "metadata": {},
   "outputs": [],
   "source": [
    "csco = web.DataReader(\"CSCO\", 'yahoo', start, end)  # Collects data\n",
    "csco.reset_index(inplace=True)\n",
    "csco.set_index(\"Date\", inplace=True)"
   ]
  },
  {
   "cell_type": "code",
   "execution_count": 70,
   "metadata": {},
   "outputs": [],
   "source": [
    "ibm = web.DataReader(\"IBM\", 'yahoo', start, end)  # Collects data\n",
    "ibm.reset_index(inplace=True)\n",
    "ibm.set_index(\"Date\", inplace=True)"
   ]
  },
  {
   "cell_type": "markdown",
   "metadata": {},
   "source": [
    "To make things uniform, we will be working on Adjusted Closing value."
   ]
  },
  {
   "cell_type": "code",
   "execution_count": 71,
   "metadata": {},
   "outputs": [
    {
     "data": {
      "text/html": [
       "<div>\n",
       "<style scoped>\n",
       "    .dataframe tbody tr th:only-of-type {\n",
       "        vertical-align: middle;\n",
       "    }\n",
       "\n",
       "    .dataframe tbody tr th {\n",
       "        vertical-align: top;\n",
       "    }\n",
       "\n",
       "    .dataframe thead th {\n",
       "        text-align: right;\n",
       "    }\n",
       "</style>\n",
       "<table border=\"1\" class=\"dataframe\">\n",
       "  <thead>\n",
       "    <tr style=\"text-align: right;\">\n",
       "      <th></th>\n",
       "      <th>High</th>\n",
       "      <th>Low</th>\n",
       "      <th>Open</th>\n",
       "      <th>Close</th>\n",
       "      <th>Volume</th>\n",
       "      <th>Adj Close</th>\n",
       "    </tr>\n",
       "    <tr>\n",
       "      <th>Date</th>\n",
       "      <th></th>\n",
       "      <th></th>\n",
       "      <th></th>\n",
       "      <th></th>\n",
       "      <th></th>\n",
       "      <th></th>\n",
       "    </tr>\n",
       "  </thead>\n",
       "  <tbody>\n",
       "    <tr>\n",
       "      <th>2020-12-31</th>\n",
       "      <td>126.029999</td>\n",
       "      <td>123.989998</td>\n",
       "      <td>124.220001</td>\n",
       "      <td>125.879997</td>\n",
       "      <td>3574400.0</td>\n",
       "      <td>124.220062</td>\n",
       "    </tr>\n",
       "    <tr>\n",
       "      <th>2021-01-04</th>\n",
       "      <td>125.919998</td>\n",
       "      <td>123.040001</td>\n",
       "      <td>125.849998</td>\n",
       "      <td>123.940002</td>\n",
       "      <td>5179200.0</td>\n",
       "      <td>122.305649</td>\n",
       "    </tr>\n",
       "    <tr>\n",
       "      <th>2021-01-05</th>\n",
       "      <td>126.680000</td>\n",
       "      <td>124.610001</td>\n",
       "      <td>125.010002</td>\n",
       "      <td>126.139999</td>\n",
       "      <td>6114600.0</td>\n",
       "      <td>124.476639</td>\n",
       "    </tr>\n",
       "    <tr>\n",
       "      <th>2021-01-06</th>\n",
       "      <td>131.880005</td>\n",
       "      <td>126.720001</td>\n",
       "      <td>126.900002</td>\n",
       "      <td>129.289993</td>\n",
       "      <td>7956700.0</td>\n",
       "      <td>127.585091</td>\n",
       "    </tr>\n",
       "    <tr>\n",
       "      <th>2021-01-07</th>\n",
       "      <td>130.460007</td>\n",
       "      <td>128.259995</td>\n",
       "      <td>130.039993</td>\n",
       "      <td>128.990005</td>\n",
       "      <td>4507400.0</td>\n",
       "      <td>127.289062</td>\n",
       "    </tr>\n",
       "  </tbody>\n",
       "</table>\n",
       "</div>"
      ],
      "text/plain": [
       "                  High         Low        Open       Close     Volume  \\\n",
       "Date                                                                    \n",
       "2020-12-31  126.029999  123.989998  124.220001  125.879997  3574400.0   \n",
       "2021-01-04  125.919998  123.040001  125.849998  123.940002  5179200.0   \n",
       "2021-01-05  126.680000  124.610001  125.010002  126.139999  6114600.0   \n",
       "2021-01-06  131.880005  126.720001  126.900002  129.289993  7956700.0   \n",
       "2021-01-07  130.460007  128.259995  130.039993  128.990005  4507400.0   \n",
       "\n",
       "             Adj Close  \n",
       "Date                    \n",
       "2020-12-31  124.220062  \n",
       "2021-01-04  122.305649  \n",
       "2021-01-05  124.476639  \n",
       "2021-01-06  127.585091  \n",
       "2021-01-07  127.289062  "
      ]
     },
     "execution_count": 71,
     "metadata": {},
     "output_type": "execute_result"
    }
   ],
   "source": [
    "ibm.head()"
   ]
  },
  {
   "cell_type": "markdown",
   "metadata": {},
   "source": [
    "Now we calculate the normed return. \n",
    "Returns to be calculated as over the Adj Close value on Day 0. "
   ]
  },
  {
   "cell_type": "code",
   "execution_count": 72,
   "metadata": {},
   "outputs": [],
   "source": [
    "for stock_df in (aapl,goog,csco,ibm):\n",
    "    stock_df['Normed Return'] = stock_df['Adj Close']/stock_df.iloc[0]['Adj Close']"
   ]
  },
  {
   "cell_type": "code",
   "execution_count": 73,
   "metadata": {},
   "outputs": [
    {
     "data": {
      "text/html": [
       "<div>\n",
       "<style scoped>\n",
       "    .dataframe tbody tr th:only-of-type {\n",
       "        vertical-align: middle;\n",
       "    }\n",
       "\n",
       "    .dataframe tbody tr th {\n",
       "        vertical-align: top;\n",
       "    }\n",
       "\n",
       "    .dataframe thead th {\n",
       "        text-align: right;\n",
       "    }\n",
       "</style>\n",
       "<table border=\"1\" class=\"dataframe\">\n",
       "  <thead>\n",
       "    <tr style=\"text-align: right;\">\n",
       "      <th></th>\n",
       "      <th>High</th>\n",
       "      <th>Low</th>\n",
       "      <th>Open</th>\n",
       "      <th>Close</th>\n",
       "      <th>Volume</th>\n",
       "      <th>Adj Close</th>\n",
       "      <th>Normed Return</th>\n",
       "    </tr>\n",
       "    <tr>\n",
       "      <th>Date</th>\n",
       "      <th></th>\n",
       "      <th></th>\n",
       "      <th></th>\n",
       "      <th></th>\n",
       "      <th></th>\n",
       "      <th></th>\n",
       "      <th></th>\n",
       "    </tr>\n",
       "  </thead>\n",
       "  <tbody>\n",
       "    <tr>\n",
       "      <th>2020-12-31</th>\n",
       "      <td>126.029999</td>\n",
       "      <td>123.989998</td>\n",
       "      <td>124.220001</td>\n",
       "      <td>125.879997</td>\n",
       "      <td>3574400.0</td>\n",
       "      <td>124.220062</td>\n",
       "      <td>1.000000</td>\n",
       "    </tr>\n",
       "    <tr>\n",
       "      <th>2021-01-04</th>\n",
       "      <td>125.919998</td>\n",
       "      <td>123.040001</td>\n",
       "      <td>125.849998</td>\n",
       "      <td>123.940002</td>\n",
       "      <td>5179200.0</td>\n",
       "      <td>122.305649</td>\n",
       "      <td>0.984589</td>\n",
       "    </tr>\n",
       "    <tr>\n",
       "      <th>2021-01-05</th>\n",
       "      <td>126.680000</td>\n",
       "      <td>124.610001</td>\n",
       "      <td>125.010002</td>\n",
       "      <td>126.139999</td>\n",
       "      <td>6114600.0</td>\n",
       "      <td>124.476639</td>\n",
       "      <td>1.002065</td>\n",
       "    </tr>\n",
       "    <tr>\n",
       "      <th>2021-01-06</th>\n",
       "      <td>131.880005</td>\n",
       "      <td>126.720001</td>\n",
       "      <td>126.900002</td>\n",
       "      <td>129.289993</td>\n",
       "      <td>7956700.0</td>\n",
       "      <td>127.585091</td>\n",
       "      <td>1.027089</td>\n",
       "    </tr>\n",
       "    <tr>\n",
       "      <th>2021-01-07</th>\n",
       "      <td>130.460007</td>\n",
       "      <td>128.259995</td>\n",
       "      <td>130.039993</td>\n",
       "      <td>128.990005</td>\n",
       "      <td>4507400.0</td>\n",
       "      <td>127.289062</td>\n",
       "      <td>1.024706</td>\n",
       "    </tr>\n",
       "  </tbody>\n",
       "</table>\n",
       "</div>"
      ],
      "text/plain": [
       "                  High         Low        Open       Close     Volume  \\\n",
       "Date                                                                    \n",
       "2020-12-31  126.029999  123.989998  124.220001  125.879997  3574400.0   \n",
       "2021-01-04  125.919998  123.040001  125.849998  123.940002  5179200.0   \n",
       "2021-01-05  126.680000  124.610001  125.010002  126.139999  6114600.0   \n",
       "2021-01-06  131.880005  126.720001  126.900002  129.289993  7956700.0   \n",
       "2021-01-07  130.460007  128.259995  130.039993  128.990005  4507400.0   \n",
       "\n",
       "             Adj Close  Normed Return  \n",
       "Date                                   \n",
       "2020-12-31  124.220062       1.000000  \n",
       "2021-01-04  122.305649       0.984589  \n",
       "2021-01-05  124.476639       1.002065  \n",
       "2021-01-06  127.585091       1.027089  \n",
       "2021-01-07  127.289062       1.024706  "
      ]
     },
     "execution_count": 73,
     "metadata": {},
     "output_type": "execute_result"
    }
   ],
   "source": [
    "ibm.head()"
   ]
  },
  {
   "cell_type": "code",
   "execution_count": 74,
   "metadata": {},
   "outputs": [
    {
     "data": {
      "text/html": [
       "<div>\n",
       "<style scoped>\n",
       "    .dataframe tbody tr th:only-of-type {\n",
       "        vertical-align: middle;\n",
       "    }\n",
       "\n",
       "    .dataframe tbody tr th {\n",
       "        vertical-align: top;\n",
       "    }\n",
       "\n",
       "    .dataframe thead th {\n",
       "        text-align: right;\n",
       "    }\n",
       "</style>\n",
       "<table border=\"1\" class=\"dataframe\">\n",
       "  <thead>\n",
       "    <tr style=\"text-align: right;\">\n",
       "      <th></th>\n",
       "      <th>High</th>\n",
       "      <th>Low</th>\n",
       "      <th>Open</th>\n",
       "      <th>Close</th>\n",
       "      <th>Volume</th>\n",
       "      <th>Adj Close</th>\n",
       "      <th>Normed Return</th>\n",
       "    </tr>\n",
       "    <tr>\n",
       "      <th>Date</th>\n",
       "      <th></th>\n",
       "      <th></th>\n",
       "      <th></th>\n",
       "      <th></th>\n",
       "      <th></th>\n",
       "      <th></th>\n",
       "      <th></th>\n",
       "    </tr>\n",
       "  </thead>\n",
       "  <tbody>\n",
       "    <tr>\n",
       "      <th>2021-02-24</th>\n",
       "      <td>123.489998</td>\n",
       "      <td>120.519997</td>\n",
       "      <td>120.800003</td>\n",
       "      <td>123.209999</td>\n",
       "      <td>5820000.0</td>\n",
       "      <td>123.209999</td>\n",
       "      <td>0.991869</td>\n",
       "    </tr>\n",
       "    <tr>\n",
       "      <th>2021-02-25</th>\n",
       "      <td>124.349998</td>\n",
       "      <td>122.339996</td>\n",
       "      <td>123.370003</td>\n",
       "      <td>122.470001</td>\n",
       "      <td>5691800.0</td>\n",
       "      <td>122.470001</td>\n",
       "      <td>0.985912</td>\n",
       "    </tr>\n",
       "    <tr>\n",
       "      <th>2021-02-26</th>\n",
       "      <td>122.250000</td>\n",
       "      <td>118.879997</td>\n",
       "      <td>122.250000</td>\n",
       "      <td>118.930000</td>\n",
       "      <td>9044900.0</td>\n",
       "      <td>118.930000</td>\n",
       "      <td>0.957414</td>\n",
       "    </tr>\n",
       "    <tr>\n",
       "      <th>2021-03-01</th>\n",
       "      <td>122.320000</td>\n",
       "      <td>119.860001</td>\n",
       "      <td>120.349998</td>\n",
       "      <td>120.739998</td>\n",
       "      <td>5714500.0</td>\n",
       "      <td>120.739998</td>\n",
       "      <td>0.971985</td>\n",
       "    </tr>\n",
       "    <tr>\n",
       "      <th>2021-03-02</th>\n",
       "      <td>121.900002</td>\n",
       "      <td>120.260002</td>\n",
       "      <td>120.739998</td>\n",
       "      <td>120.330002</td>\n",
       "      <td>4522200.0</td>\n",
       "      <td>120.330002</td>\n",
       "      <td>0.968684</td>\n",
       "    </tr>\n",
       "  </tbody>\n",
       "</table>\n",
       "</div>"
      ],
      "text/plain": [
       "                  High         Low        Open       Close     Volume  \\\n",
       "Date                                                                    \n",
       "2021-02-24  123.489998  120.519997  120.800003  123.209999  5820000.0   \n",
       "2021-02-25  124.349998  122.339996  123.370003  122.470001  5691800.0   \n",
       "2021-02-26  122.250000  118.879997  122.250000  118.930000  9044900.0   \n",
       "2021-03-01  122.320000  119.860001  120.349998  120.739998  5714500.0   \n",
       "2021-03-02  121.900002  120.260002  120.739998  120.330002  4522200.0   \n",
       "\n",
       "             Adj Close  Normed Return  \n",
       "Date                                   \n",
       "2021-02-24  123.209999       0.991869  \n",
       "2021-02-25  122.470001       0.985912  \n",
       "2021-02-26  118.930000       0.957414  \n",
       "2021-03-01  120.739998       0.971985  \n",
       "2021-03-02  120.330002       0.968684  "
      ]
     },
     "execution_count": 74,
     "metadata": {},
     "output_type": "execute_result"
    }
   ],
   "source": [
    "ibm.tail()"
   ]
  },
  {
   "cell_type": "markdown",
   "metadata": {},
   "source": [
    "# Allocations"
   ]
  },
  {
   "cell_type": "markdown",
   "metadata": {},
   "source": [
    "Let us take Sample Allocations. \n",
    "\n",
    "AAPL- 30 % - 0.3\n",
    "\n",
    "GOOG- 20 % - 0.2\n",
    "\n",
    "CSCO- 40 % - 0.4\n",
    "\n",
    "IBM-  10 % - 0.1\n"
   ]
  },
  {
   "cell_type": "code",
   "execution_count": 75,
   "metadata": {},
   "outputs": [],
   "source": [
    "for stock_df,allo in zip([aapl,goog,csco,ibm],[.3,.2,.4,.1]): \n",
    "    stock_df['Allocation'] = stock_df['Normed Return']*allo"
   ]
  },
  {
   "cell_type": "code",
   "execution_count": 76,
   "metadata": {},
   "outputs": [
    {
     "data": {
      "text/html": [
       "<div>\n",
       "<style scoped>\n",
       "    .dataframe tbody tr th:only-of-type {\n",
       "        vertical-align: middle;\n",
       "    }\n",
       "\n",
       "    .dataframe tbody tr th {\n",
       "        vertical-align: top;\n",
       "    }\n",
       "\n",
       "    .dataframe thead th {\n",
       "        text-align: right;\n",
       "    }\n",
       "</style>\n",
       "<table border=\"1\" class=\"dataframe\">\n",
       "  <thead>\n",
       "    <tr style=\"text-align: right;\">\n",
       "      <th></th>\n",
       "      <th>High</th>\n",
       "      <th>Low</th>\n",
       "      <th>Open</th>\n",
       "      <th>Close</th>\n",
       "      <th>Volume</th>\n",
       "      <th>Adj Close</th>\n",
       "      <th>Normed Return</th>\n",
       "      <th>Allocation</th>\n",
       "    </tr>\n",
       "    <tr>\n",
       "      <th>Date</th>\n",
       "      <th></th>\n",
       "      <th></th>\n",
       "      <th></th>\n",
       "      <th></th>\n",
       "      <th></th>\n",
       "      <th></th>\n",
       "      <th></th>\n",
       "      <th></th>\n",
       "    </tr>\n",
       "  </thead>\n",
       "  <tbody>\n",
       "    <tr>\n",
       "      <th>2020-12-31</th>\n",
       "      <td>134.740005</td>\n",
       "      <td>131.720001</td>\n",
       "      <td>134.080002</td>\n",
       "      <td>132.690002</td>\n",
       "      <td>99116600.0</td>\n",
       "      <td>132.492020</td>\n",
       "      <td>1.000000</td>\n",
       "      <td>0.300000</td>\n",
       "    </tr>\n",
       "    <tr>\n",
       "      <th>2021-01-04</th>\n",
       "      <td>133.610001</td>\n",
       "      <td>126.760002</td>\n",
       "      <td>133.520004</td>\n",
       "      <td>129.410004</td>\n",
       "      <td>143301900.0</td>\n",
       "      <td>129.216919</td>\n",
       "      <td>0.975281</td>\n",
       "      <td>0.292584</td>\n",
       "    </tr>\n",
       "    <tr>\n",
       "      <th>2021-01-05</th>\n",
       "      <td>131.740005</td>\n",
       "      <td>128.429993</td>\n",
       "      <td>128.889999</td>\n",
       "      <td>131.009995</td>\n",
       "      <td>97664900.0</td>\n",
       "      <td>130.814514</td>\n",
       "      <td>0.987339</td>\n",
       "      <td>0.296202</td>\n",
       "    </tr>\n",
       "    <tr>\n",
       "      <th>2021-01-06</th>\n",
       "      <td>131.050003</td>\n",
       "      <td>126.379997</td>\n",
       "      <td>127.720001</td>\n",
       "      <td>126.599998</td>\n",
       "      <td>155088000.0</td>\n",
       "      <td>126.411102</td>\n",
       "      <td>0.954104</td>\n",
       "      <td>0.286231</td>\n",
       "    </tr>\n",
       "    <tr>\n",
       "      <th>2021-01-07</th>\n",
       "      <td>131.630005</td>\n",
       "      <td>127.860001</td>\n",
       "      <td>128.360001</td>\n",
       "      <td>130.919998</td>\n",
       "      <td>109578200.0</td>\n",
       "      <td>130.724655</td>\n",
       "      <td>0.986661</td>\n",
       "      <td>0.295998</td>\n",
       "    </tr>\n",
       "  </tbody>\n",
       "</table>\n",
       "</div>"
      ],
      "text/plain": [
       "                  High         Low        Open       Close       Volume  \\\n",
       "Date                                                                      \n",
       "2020-12-31  134.740005  131.720001  134.080002  132.690002   99116600.0   \n",
       "2021-01-04  133.610001  126.760002  133.520004  129.410004  143301900.0   \n",
       "2021-01-05  131.740005  128.429993  128.889999  131.009995   97664900.0   \n",
       "2021-01-06  131.050003  126.379997  127.720001  126.599998  155088000.0   \n",
       "2021-01-07  131.630005  127.860001  128.360001  130.919998  109578200.0   \n",
       "\n",
       "             Adj Close  Normed Return  Allocation  \n",
       "Date                                               \n",
       "2020-12-31  132.492020       1.000000    0.300000  \n",
       "2021-01-04  129.216919       0.975281    0.292584  \n",
       "2021-01-05  130.814514       0.987339    0.296202  \n",
       "2021-01-06  126.411102       0.954104    0.286231  \n",
       "2021-01-07  130.724655       0.986661    0.295998  "
      ]
     },
     "execution_count": 76,
     "metadata": {},
     "output_type": "execute_result"
    }
   ],
   "source": [
    "aapl.head()"
   ]
  },
  {
   "cell_type": "code",
   "execution_count": 77,
   "metadata": {},
   "outputs": [
    {
     "data": {
      "text/html": [
       "<div>\n",
       "<style scoped>\n",
       "    .dataframe tbody tr th:only-of-type {\n",
       "        vertical-align: middle;\n",
       "    }\n",
       "\n",
       "    .dataframe tbody tr th {\n",
       "        vertical-align: top;\n",
       "    }\n",
       "\n",
       "    .dataframe thead th {\n",
       "        text-align: right;\n",
       "    }\n",
       "</style>\n",
       "<table border=\"1\" class=\"dataframe\">\n",
       "  <thead>\n",
       "    <tr style=\"text-align: right;\">\n",
       "      <th></th>\n",
       "      <th>High</th>\n",
       "      <th>Low</th>\n",
       "      <th>Open</th>\n",
       "      <th>Close</th>\n",
       "      <th>Volume</th>\n",
       "      <th>Adj Close</th>\n",
       "      <th>Normed Return</th>\n",
       "      <th>Allocation</th>\n",
       "    </tr>\n",
       "    <tr>\n",
       "      <th>Date</th>\n",
       "      <th></th>\n",
       "      <th></th>\n",
       "      <th></th>\n",
       "      <th></th>\n",
       "      <th></th>\n",
       "      <th></th>\n",
       "      <th></th>\n",
       "      <th></th>\n",
       "    </tr>\n",
       "  </thead>\n",
       "  <tbody>\n",
       "    <tr>\n",
       "      <th>2021-02-24</th>\n",
       "      <td>125.559998</td>\n",
       "      <td>122.230003</td>\n",
       "      <td>124.940002</td>\n",
       "      <td>125.349998</td>\n",
       "      <td>111039900.0</td>\n",
       "      <td>125.349998</td>\n",
       "      <td>0.946095</td>\n",
       "      <td>0.283828</td>\n",
       "    </tr>\n",
       "    <tr>\n",
       "      <th>2021-02-25</th>\n",
       "      <td>126.459999</td>\n",
       "      <td>120.540001</td>\n",
       "      <td>124.680000</td>\n",
       "      <td>120.989998</td>\n",
       "      <td>148199500.0</td>\n",
       "      <td>120.989998</td>\n",
       "      <td>0.913187</td>\n",
       "      <td>0.273956</td>\n",
       "    </tr>\n",
       "    <tr>\n",
       "      <th>2021-02-26</th>\n",
       "      <td>124.849998</td>\n",
       "      <td>121.199997</td>\n",
       "      <td>122.589996</td>\n",
       "      <td>121.260002</td>\n",
       "      <td>164320000.0</td>\n",
       "      <td>121.260002</td>\n",
       "      <td>0.915225</td>\n",
       "      <td>0.274567</td>\n",
       "    </tr>\n",
       "    <tr>\n",
       "      <th>2021-03-01</th>\n",
       "      <td>127.930000</td>\n",
       "      <td>122.790001</td>\n",
       "      <td>123.750000</td>\n",
       "      <td>127.790001</td>\n",
       "      <td>115998300.0</td>\n",
       "      <td>127.790001</td>\n",
       "      <td>0.964511</td>\n",
       "      <td>0.289353</td>\n",
       "    </tr>\n",
       "    <tr>\n",
       "      <th>2021-03-02</th>\n",
       "      <td>128.720001</td>\n",
       "      <td>125.010002</td>\n",
       "      <td>128.410004</td>\n",
       "      <td>125.120003</td>\n",
       "      <td>102015300.0</td>\n",
       "      <td>125.120003</td>\n",
       "      <td>0.944359</td>\n",
       "      <td>0.283308</td>\n",
       "    </tr>\n",
       "  </tbody>\n",
       "</table>\n",
       "</div>"
      ],
      "text/plain": [
       "                  High         Low        Open       Close       Volume  \\\n",
       "Date                                                                      \n",
       "2021-02-24  125.559998  122.230003  124.940002  125.349998  111039900.0   \n",
       "2021-02-25  126.459999  120.540001  124.680000  120.989998  148199500.0   \n",
       "2021-02-26  124.849998  121.199997  122.589996  121.260002  164320000.0   \n",
       "2021-03-01  127.930000  122.790001  123.750000  127.790001  115998300.0   \n",
       "2021-03-02  128.720001  125.010002  128.410004  125.120003  102015300.0   \n",
       "\n",
       "             Adj Close  Normed Return  Allocation  \n",
       "Date                                               \n",
       "2021-02-24  125.349998       0.946095    0.283828  \n",
       "2021-02-25  120.989998       0.913187    0.273956  \n",
       "2021-02-26  121.260002       0.915225    0.274567  \n",
       "2021-03-01  127.790001       0.964511    0.289353  \n",
       "2021-03-02  125.120003       0.944359    0.283308  "
      ]
     },
     "execution_count": 77,
     "metadata": {},
     "output_type": "execute_result"
    }
   ],
   "source": [
    "aapl.tail()"
   ]
  },
  {
   "cell_type": "code",
   "execution_count": 78,
   "metadata": {},
   "outputs": [
    {
     "data": {
      "text/html": [
       "<div>\n",
       "<style scoped>\n",
       "    .dataframe tbody tr th:only-of-type {\n",
       "        vertical-align: middle;\n",
       "    }\n",
       "\n",
       "    .dataframe tbody tr th {\n",
       "        vertical-align: top;\n",
       "    }\n",
       "\n",
       "    .dataframe thead th {\n",
       "        text-align: right;\n",
       "    }\n",
       "</style>\n",
       "<table border=\"1\" class=\"dataframe\">\n",
       "  <thead>\n",
       "    <tr style=\"text-align: right;\">\n",
       "      <th></th>\n",
       "      <th>High</th>\n",
       "      <th>Low</th>\n",
       "      <th>Open</th>\n",
       "      <th>Close</th>\n",
       "      <th>Volume</th>\n",
       "      <th>Adj Close</th>\n",
       "      <th>Normed Return</th>\n",
       "      <th>Allocation</th>\n",
       "    </tr>\n",
       "    <tr>\n",
       "      <th>Date</th>\n",
       "      <th></th>\n",
       "      <th></th>\n",
       "      <th></th>\n",
       "      <th></th>\n",
       "      <th></th>\n",
       "      <th></th>\n",
       "      <th></th>\n",
       "      <th></th>\n",
       "    </tr>\n",
       "  </thead>\n",
       "  <tbody>\n",
       "    <tr>\n",
       "      <th>2021-02-24</th>\n",
       "      <td>123.489998</td>\n",
       "      <td>120.519997</td>\n",
       "      <td>120.800003</td>\n",
       "      <td>123.209999</td>\n",
       "      <td>5820000.0</td>\n",
       "      <td>123.209999</td>\n",
       "      <td>0.991869</td>\n",
       "      <td>0.099187</td>\n",
       "    </tr>\n",
       "    <tr>\n",
       "      <th>2021-02-25</th>\n",
       "      <td>124.349998</td>\n",
       "      <td>122.339996</td>\n",
       "      <td>123.370003</td>\n",
       "      <td>122.470001</td>\n",
       "      <td>5691800.0</td>\n",
       "      <td>122.470001</td>\n",
       "      <td>0.985912</td>\n",
       "      <td>0.098591</td>\n",
       "    </tr>\n",
       "    <tr>\n",
       "      <th>2021-02-26</th>\n",
       "      <td>122.250000</td>\n",
       "      <td>118.879997</td>\n",
       "      <td>122.250000</td>\n",
       "      <td>118.930000</td>\n",
       "      <td>9044900.0</td>\n",
       "      <td>118.930000</td>\n",
       "      <td>0.957414</td>\n",
       "      <td>0.095741</td>\n",
       "    </tr>\n",
       "    <tr>\n",
       "      <th>2021-03-01</th>\n",
       "      <td>122.320000</td>\n",
       "      <td>119.860001</td>\n",
       "      <td>120.349998</td>\n",
       "      <td>120.739998</td>\n",
       "      <td>5714500.0</td>\n",
       "      <td>120.739998</td>\n",
       "      <td>0.971985</td>\n",
       "      <td>0.097198</td>\n",
       "    </tr>\n",
       "    <tr>\n",
       "      <th>2021-03-02</th>\n",
       "      <td>121.900002</td>\n",
       "      <td>120.260002</td>\n",
       "      <td>120.739998</td>\n",
       "      <td>120.330002</td>\n",
       "      <td>4522200.0</td>\n",
       "      <td>120.330002</td>\n",
       "      <td>0.968684</td>\n",
       "      <td>0.096868</td>\n",
       "    </tr>\n",
       "  </tbody>\n",
       "</table>\n",
       "</div>"
      ],
      "text/plain": [
       "                  High         Low        Open       Close     Volume  \\\n",
       "Date                                                                    \n",
       "2021-02-24  123.489998  120.519997  120.800003  123.209999  5820000.0   \n",
       "2021-02-25  124.349998  122.339996  123.370003  122.470001  5691800.0   \n",
       "2021-02-26  122.250000  118.879997  122.250000  118.930000  9044900.0   \n",
       "2021-03-01  122.320000  119.860001  120.349998  120.739998  5714500.0   \n",
       "2021-03-02  121.900002  120.260002  120.739998  120.330002  4522200.0   \n",
       "\n",
       "             Adj Close  Normed Return  Allocation  \n",
       "Date                                               \n",
       "2021-02-24  123.209999       0.991869    0.099187  \n",
       "2021-02-25  122.470001       0.985912    0.098591  \n",
       "2021-02-26  118.930000       0.957414    0.095741  \n",
       "2021-03-01  120.739998       0.971985    0.097198  \n",
       "2021-03-02  120.330002       0.968684    0.096868  "
      ]
     },
     "execution_count": 78,
     "metadata": {},
     "output_type": "execute_result"
    }
   ],
   "source": [
    "ibm.tail()"
   ]
  },
  {
   "cell_type": "markdown",
   "metadata": {},
   "source": [
    "# Investment\n",
    "\n",
    "Assuming 1,00,000 investment."
   ]
  },
  {
   "cell_type": "code",
   "execution_count": 79,
   "metadata": {},
   "outputs": [],
   "source": [
    "for stock_df in [aapl,goog,csco,ibm]:\n",
    "    stock_df['Position Values'] = stock_df['Allocation']*100000"
   ]
  },
  {
   "cell_type": "markdown",
   "metadata": {},
   "source": [
    "# Portfolio Analysis"
   ]
  },
  {
   "cell_type": "code",
   "execution_count": 80,
   "metadata": {},
   "outputs": [],
   "source": [
    "portfolio_val = pd.concat([aapl['Position Values'],goog['Position Values'],csco['Position Values'],ibm['Position Values']],axis=1)"
   ]
  },
  {
   "cell_type": "code",
   "execution_count": 81,
   "metadata": {},
   "outputs": [],
   "source": [
    "portfolio_val.columns= [\"AAPL\",\"GOOG\",\"CSCO\",\"IBM\"]"
   ]
  },
  {
   "cell_type": "code",
   "execution_count": 82,
   "metadata": {},
   "outputs": [
    {
     "data": {
      "text/html": [
       "<div>\n",
       "<style scoped>\n",
       "    .dataframe tbody tr th:only-of-type {\n",
       "        vertical-align: middle;\n",
       "    }\n",
       "\n",
       "    .dataframe tbody tr th {\n",
       "        vertical-align: top;\n",
       "    }\n",
       "\n",
       "    .dataframe thead th {\n",
       "        text-align: right;\n",
       "    }\n",
       "</style>\n",
       "<table border=\"1\" class=\"dataframe\">\n",
       "  <thead>\n",
       "    <tr style=\"text-align: right;\">\n",
       "      <th></th>\n",
       "      <th>AAPL</th>\n",
       "      <th>GOOG</th>\n",
       "      <th>CSCO</th>\n",
       "      <th>IBM</th>\n",
       "    </tr>\n",
       "    <tr>\n",
       "      <th>Date</th>\n",
       "      <th></th>\n",
       "      <th></th>\n",
       "      <th></th>\n",
       "      <th></th>\n",
       "    </tr>\n",
       "  </thead>\n",
       "  <tbody>\n",
       "    <tr>\n",
       "      <th>2020-12-31</th>\n",
       "      <td>30000.000000</td>\n",
       "      <td>20000.000000</td>\n",
       "      <td>40000.000000</td>\n",
       "      <td>10000.000000</td>\n",
       "    </tr>\n",
       "    <tr>\n",
       "      <th>2021-01-04</th>\n",
       "      <td>29258.423100</td>\n",
       "      <td>19730.118335</td>\n",
       "      <td>39612.525063</td>\n",
       "      <td>9845.885325</td>\n",
       "    </tr>\n",
       "    <tr>\n",
       "      <th>2021-01-05</th>\n",
       "      <td>29620.164558</td>\n",
       "      <td>19874.877721</td>\n",
       "      <td>39630.547553</td>\n",
       "      <td>10020.655000</td>\n",
       "    </tr>\n",
       "    <tr>\n",
       "      <th>2021-01-06</th>\n",
       "      <td>28623.105594</td>\n",
       "      <td>19810.603857</td>\n",
       "      <td>40009.012964</td>\n",
       "      <td>10270.892505</td>\n",
       "    </tr>\n",
       "    <tr>\n",
       "      <th>2021-01-07</th>\n",
       "      <td>29599.817897</td>\n",
       "      <td>20403.794724</td>\n",
       "      <td>40513.628928</td>\n",
       "      <td>10247.061561</td>\n",
       "    </tr>\n",
       "  </tbody>\n",
       "</table>\n",
       "</div>"
      ],
      "text/plain": [
       "                    AAPL          GOOG          CSCO           IBM\n",
       "Date                                                              \n",
       "2020-12-31  30000.000000  20000.000000  40000.000000  10000.000000\n",
       "2021-01-04  29258.423100  19730.118335  39612.525063   9845.885325\n",
       "2021-01-05  29620.164558  19874.877721  39630.547553  10020.655000\n",
       "2021-01-06  28623.105594  19810.603857  40009.012964  10270.892505\n",
       "2021-01-07  29599.817897  20403.794724  40513.628928  10247.061561"
      ]
     },
     "execution_count": 82,
     "metadata": {},
     "output_type": "execute_result"
    }
   ],
   "source": [
    "portfolio_val.head()"
   ]
  },
  {
   "cell_type": "code",
   "execution_count": 83,
   "metadata": {},
   "outputs": [
    {
     "data": {
      "text/html": [
       "<div>\n",
       "<style scoped>\n",
       "    .dataframe tbody tr th:only-of-type {\n",
       "        vertical-align: middle;\n",
       "    }\n",
       "\n",
       "    .dataframe tbody tr th {\n",
       "        vertical-align: top;\n",
       "    }\n",
       "\n",
       "    .dataframe thead th {\n",
       "        text-align: right;\n",
       "    }\n",
       "</style>\n",
       "<table border=\"1\" class=\"dataframe\">\n",
       "  <thead>\n",
       "    <tr style=\"text-align: right;\">\n",
       "      <th></th>\n",
       "      <th>AAPL</th>\n",
       "      <th>GOOG</th>\n",
       "      <th>CSCO</th>\n",
       "      <th>IBM</th>\n",
       "    </tr>\n",
       "    <tr>\n",
       "      <th>Date</th>\n",
       "      <th></th>\n",
       "      <th></th>\n",
       "      <th></th>\n",
       "      <th></th>\n",
       "    </tr>\n",
       "  </thead>\n",
       "  <tbody>\n",
       "    <tr>\n",
       "      <th>2021-02-24</th>\n",
       "      <td>28382.841201</td>\n",
       "      <td>23919.103090</td>\n",
       "      <td>41216.492280</td>\n",
       "      <td>9918.687597</td>\n",
       "    </tr>\n",
       "    <tr>\n",
       "      <th>2021-02-25</th>\n",
       "      <td>27395.611792</td>\n",
       "      <td>23190.629263</td>\n",
       "      <td>41018.248329</td>\n",
       "      <td>9859.116072</td>\n",
       "    </tr>\n",
       "    <tr>\n",
       "      <th>2021-02-26</th>\n",
       "      <td>27456.748517</td>\n",
       "      <td>23253.418952</td>\n",
       "      <td>40432.529443</td>\n",
       "      <td>9574.137876</td>\n",
       "    </tr>\n",
       "    <tr>\n",
       "      <th>2021-03-01</th>\n",
       "      <td>28935.327860</td>\n",
       "      <td>23763.157339</td>\n",
       "      <td>41378.687813</td>\n",
       "      <td>9719.846832</td>\n",
       "    </tr>\n",
       "    <tr>\n",
       "      <th>2021-03-02</th>\n",
       "      <td>28330.763560</td>\n",
       "      <td>23698.427770</td>\n",
       "      <td>41018.248329</td>\n",
       "      <td>9686.841211</td>\n",
       "    </tr>\n",
       "  </tbody>\n",
       "</table>\n",
       "</div>"
      ],
      "text/plain": [
       "                    AAPL          GOOG          CSCO          IBM\n",
       "Date                                                             \n",
       "2021-02-24  28382.841201  23919.103090  41216.492280  9918.687597\n",
       "2021-02-25  27395.611792  23190.629263  41018.248329  9859.116072\n",
       "2021-02-26  27456.748517  23253.418952  40432.529443  9574.137876\n",
       "2021-03-01  28935.327860  23763.157339  41378.687813  9719.846832\n",
       "2021-03-02  28330.763560  23698.427770  41018.248329  9686.841211"
      ]
     },
     "execution_count": 83,
     "metadata": {},
     "output_type": "execute_result"
    }
   ],
   "source": [
    "portfolio_val.tail()"
   ]
  },
  {
   "cell_type": "code",
   "execution_count": 84,
   "metadata": {},
   "outputs": [],
   "source": [
    "portfolio_val['Total Pos'] = portfolio_val.sum(axis=1)"
   ]
  },
  {
   "cell_type": "code",
   "execution_count": 85,
   "metadata": {},
   "outputs": [
    {
     "data": {
      "text/html": [
       "<div>\n",
       "<style scoped>\n",
       "    .dataframe tbody tr th:only-of-type {\n",
       "        vertical-align: middle;\n",
       "    }\n",
       "\n",
       "    .dataframe tbody tr th {\n",
       "        vertical-align: top;\n",
       "    }\n",
       "\n",
       "    .dataframe thead th {\n",
       "        text-align: right;\n",
       "    }\n",
       "</style>\n",
       "<table border=\"1\" class=\"dataframe\">\n",
       "  <thead>\n",
       "    <tr style=\"text-align: right;\">\n",
       "      <th></th>\n",
       "      <th>AAPL</th>\n",
       "      <th>GOOG</th>\n",
       "      <th>CSCO</th>\n",
       "      <th>IBM</th>\n",
       "      <th>Total Pos</th>\n",
       "    </tr>\n",
       "    <tr>\n",
       "      <th>Date</th>\n",
       "      <th></th>\n",
       "      <th></th>\n",
       "      <th></th>\n",
       "      <th></th>\n",
       "      <th></th>\n",
       "    </tr>\n",
       "  </thead>\n",
       "  <tbody>\n",
       "    <tr>\n",
       "      <th>2020-12-31</th>\n",
       "      <td>30000.000000</td>\n",
       "      <td>20000.000000</td>\n",
       "      <td>40000.000000</td>\n",
       "      <td>10000.000000</td>\n",
       "      <td>100000.000000</td>\n",
       "    </tr>\n",
       "    <tr>\n",
       "      <th>2021-01-04</th>\n",
       "      <td>29258.423100</td>\n",
       "      <td>19730.118335</td>\n",
       "      <td>39612.525063</td>\n",
       "      <td>9845.885325</td>\n",
       "      <td>98446.951823</td>\n",
       "    </tr>\n",
       "    <tr>\n",
       "      <th>2021-01-05</th>\n",
       "      <td>29620.164558</td>\n",
       "      <td>19874.877721</td>\n",
       "      <td>39630.547553</td>\n",
       "      <td>10020.655000</td>\n",
       "      <td>99146.244832</td>\n",
       "    </tr>\n",
       "    <tr>\n",
       "      <th>2021-01-06</th>\n",
       "      <td>28623.105594</td>\n",
       "      <td>19810.603857</td>\n",
       "      <td>40009.012964</td>\n",
       "      <td>10270.892505</td>\n",
       "      <td>98713.614919</td>\n",
       "    </tr>\n",
       "    <tr>\n",
       "      <th>2021-01-07</th>\n",
       "      <td>29599.817897</td>\n",
       "      <td>20403.794724</td>\n",
       "      <td>40513.628928</td>\n",
       "      <td>10247.061561</td>\n",
       "      <td>100764.303109</td>\n",
       "    </tr>\n",
       "  </tbody>\n",
       "</table>\n",
       "</div>"
      ],
      "text/plain": [
       "                    AAPL          GOOG          CSCO           IBM  \\\n",
       "Date                                                                 \n",
       "2020-12-31  30000.000000  20000.000000  40000.000000  10000.000000   \n",
       "2021-01-04  29258.423100  19730.118335  39612.525063   9845.885325   \n",
       "2021-01-05  29620.164558  19874.877721  39630.547553  10020.655000   \n",
       "2021-01-06  28623.105594  19810.603857  40009.012964  10270.892505   \n",
       "2021-01-07  29599.817897  20403.794724  40513.628928  10247.061561   \n",
       "\n",
       "                Total Pos  \n",
       "Date                       \n",
       "2020-12-31  100000.000000  \n",
       "2021-01-04   98446.951823  \n",
       "2021-01-05   99146.244832  \n",
       "2021-01-06   98713.614919  \n",
       "2021-01-07  100764.303109  "
      ]
     },
     "execution_count": 85,
     "metadata": {},
     "output_type": "execute_result"
    }
   ],
   "source": [
    "portfolio_val.head()"
   ]
  },
  {
   "cell_type": "code",
   "execution_count": 86,
   "metadata": {},
   "outputs": [
    {
     "data": {
      "text/html": [
       "<div>\n",
       "<style scoped>\n",
       "    .dataframe tbody tr th:only-of-type {\n",
       "        vertical-align: middle;\n",
       "    }\n",
       "\n",
       "    .dataframe tbody tr th {\n",
       "        vertical-align: top;\n",
       "    }\n",
       "\n",
       "    .dataframe thead th {\n",
       "        text-align: right;\n",
       "    }\n",
       "</style>\n",
       "<table border=\"1\" class=\"dataframe\">\n",
       "  <thead>\n",
       "    <tr style=\"text-align: right;\">\n",
       "      <th></th>\n",
       "      <th>AAPL</th>\n",
       "      <th>GOOG</th>\n",
       "      <th>CSCO</th>\n",
       "      <th>IBM</th>\n",
       "      <th>Total Pos</th>\n",
       "    </tr>\n",
       "    <tr>\n",
       "      <th>Date</th>\n",
       "      <th></th>\n",
       "      <th></th>\n",
       "      <th></th>\n",
       "      <th></th>\n",
       "      <th></th>\n",
       "    </tr>\n",
       "  </thead>\n",
       "  <tbody>\n",
       "    <tr>\n",
       "      <th>2021-02-24</th>\n",
       "      <td>28382.841201</td>\n",
       "      <td>23919.103090</td>\n",
       "      <td>41216.492280</td>\n",
       "      <td>9918.687597</td>\n",
       "      <td>103437.124168</td>\n",
       "    </tr>\n",
       "    <tr>\n",
       "      <th>2021-02-25</th>\n",
       "      <td>27395.611792</td>\n",
       "      <td>23190.629263</td>\n",
       "      <td>41018.248329</td>\n",
       "      <td>9859.116072</td>\n",
       "      <td>101463.605456</td>\n",
       "    </tr>\n",
       "    <tr>\n",
       "      <th>2021-02-26</th>\n",
       "      <td>27456.748517</td>\n",
       "      <td>23253.418952</td>\n",
       "      <td>40432.529443</td>\n",
       "      <td>9574.137876</td>\n",
       "      <td>100716.834788</td>\n",
       "    </tr>\n",
       "    <tr>\n",
       "      <th>2021-03-01</th>\n",
       "      <td>28935.327860</td>\n",
       "      <td>23763.157339</td>\n",
       "      <td>41378.687813</td>\n",
       "      <td>9719.846832</td>\n",
       "      <td>103797.019844</td>\n",
       "    </tr>\n",
       "    <tr>\n",
       "      <th>2021-03-02</th>\n",
       "      <td>28330.763560</td>\n",
       "      <td>23698.427770</td>\n",
       "      <td>41018.248329</td>\n",
       "      <td>9686.841211</td>\n",
       "      <td>102734.280871</td>\n",
       "    </tr>\n",
       "  </tbody>\n",
       "</table>\n",
       "</div>"
      ],
      "text/plain": [
       "                    AAPL          GOOG          CSCO          IBM  \\\n",
       "Date                                                                \n",
       "2021-02-24  28382.841201  23919.103090  41216.492280  9918.687597   \n",
       "2021-02-25  27395.611792  23190.629263  41018.248329  9859.116072   \n",
       "2021-02-26  27456.748517  23253.418952  40432.529443  9574.137876   \n",
       "2021-03-01  28935.327860  23763.157339  41378.687813  9719.846832   \n",
       "2021-03-02  28330.763560  23698.427770  41018.248329  9686.841211   \n",
       "\n",
       "                Total Pos  \n",
       "Date                       \n",
       "2021-02-24  103437.124168  \n",
       "2021-02-25  101463.605456  \n",
       "2021-02-26  100716.834788  \n",
       "2021-03-01  103797.019844  \n",
       "2021-03-02  102734.280871  "
      ]
     },
     "execution_count": 86,
     "metadata": {},
     "output_type": "execute_result"
    }
   ],
   "source": [
    "portfolio_val.tail()"
   ]
  },
  {
   "cell_type": "markdown",
   "metadata": {},
   "source": [
    "We had assumed 1,00,000 value portfolio, so the total value on the last date, shows whether we have gained or lost money."
   ]
  },
  {
   "cell_type": "code",
   "execution_count": 87,
   "metadata": {},
   "outputs": [
    {
     "data": {
      "text/plain": [
       "Text(0.5, 1.0, 'Total Portfolio Value')"
      ]
     },
     "execution_count": 87,
     "metadata": {},
     "output_type": "execute_result"
    },
    {
     "data": {
      "image/png": "[encoded data removed]",
      "text/plain": [
       "<Figure size 720x576 with 1 Axes>"
      ]
     },
     "metadata": {
      "needs_background": "light"
     },
     "output_type": "display_data"
    }
   ],
   "source": [
    "portfolio_val['Total Pos'].plot(figsize=(10,8))\n",
    "plt.title('Total Portfolio Value')\n",
    "\n",
    "#portfolio value over time"
   ]
  },
  {
   "cell_type": "code",
   "execution_count": 88,
   "metadata": {},
   "outputs": [
    {
     "data": {
      "text/plain": [
       "Text(0.5, 1.0, 'Value of each stock with Time')"
      ]
     },
     "execution_count": 88,
     "metadata": {},
     "output_type": "execute_result"
    },
    {
     "data": {
      "image/png": "[encoded data removed]",
      "text/plain": [
       "<Figure size 864x576 with 1 Axes>"
      ]
     },
     "metadata": {
      "needs_background": "light"
     },
     "output_type": "display_data"
    }
   ],
   "source": [
    "portfolio_val.drop('Total Pos',axis=1).plot(kind='line',figsize=(12,8))\n",
    "plt.title('Value of each stock with Time')"
   ]
  },
  {
   "cell_type": "code",
   "execution_count": 105,
   "metadata": {},
   "outputs": [
    {
     "data": {
      "text/plain": [
       "<matplotlib.axes._subplots.AxesSubplot at 0x1d085e09a88>"
      ]
     },
     "execution_count": 105,
     "metadata": {},
     "output_type": "execute_result"
    },
    {
     "data": {
      "image/png": "[encoded data removed]",
      "text/plain": [
       "<Figure size 1080x576 with 1 Axes>"
      ]
     },
     "metadata": {
      "needs_background": "light"
     },
     "output_type": "display_data"
    }
   ],
   "source": [
    "plt.figure(figsize=(15,8))\n",
    "sns.lineplot(data=portfolio_val.drop(['Total Pos',\"Daily Return\"],axis=1))\n"
   ]
  },
  {
   "cell_type": "markdown",
   "metadata": {},
   "source": [
    "# Portfolio Statistics"
   ]
  },
  {
   "cell_type": "markdown",
   "metadata": {},
   "source": [
    "# Daily Returns"
   ]
  },
  {
   "cell_type": "code",
   "execution_count": 90,
   "metadata": {},
   "outputs": [],
   "source": [
    "portfolio_val['Daily Return'] = portfolio_val['Total Pos'].pct_change(1)"
   ]
  },
  {
   "cell_type": "code",
   "execution_count": 91,
   "metadata": {},
   "outputs": [
    {
     "data": {
      "text/plain": [
       "<matplotlib.axes._subplots.AxesSubplot at 0x1d08502a488>"
      ]
     },
     "execution_count": 91,
     "metadata": {},
     "output_type": "execute_result"
    },
    {
     "data": {
      "image/png": "[encoded data removed]",
      "text/plain": [
       "<Figure size 864x576 with 1 Axes>"
      ]
     },
     "metadata": {
      "needs_background": "light"
     },
     "output_type": "display_data"
    }
   ],
   "source": [
    "portfolio_val['Daily Return'].plot(figsize=(12,8))"
   ]
  },
  {
   "cell_type": "code",
   "execution_count": 92,
   "metadata": {},
   "outputs": [
    {
     "data": {
      "text/plain": [
       "<matplotlib.axes._subplots.AxesSubplot at 0x1d0854f3cc8>"
      ]
     },
     "execution_count": 92,
     "metadata": {},
     "output_type": "execute_result"
    },
    {
     "data": {
      "image/png": "[encoded data removed]",
      "text/plain": [
       "<Figure size 864x576 with 1 Axes>"
      ]
     },
     "metadata": {
      "needs_background": "light"
     },
     "output_type": "display_data"
    }
   ],
   "source": [
    "portfolio_val['Daily Return'].plot(kind=\"kde\",figsize=(12,8))"
   ]
  },
  {
   "cell_type": "markdown",
   "metadata": {},
   "source": [
    "The area under the +ve part is more, so we can deduce that the returns have been more in positive side."
   ]
  },
  {
   "cell_type": "markdown",
   "metadata": {},
   "source": [
    "# Avg Daily Returns"
   ]
  },
  {
   "cell_type": "code",
   "execution_count": 93,
   "metadata": {},
   "outputs": [
    {
     "data": {
      "text/plain": [
       "0.0007459437915842276"
      ]
     },
     "execution_count": 93,
     "metadata": {},
     "output_type": "execute_result"
    }
   ],
   "source": [
    "portfolio_val['Daily Return'].mean()"
   ]
  },
  {
   "cell_type": "markdown",
   "metadata": {},
   "source": [
    "# Std Daily Returns"
   ]
  },
  {
   "cell_type": "code",
   "execution_count": 94,
   "metadata": {},
   "outputs": [
    {
     "data": {
      "text/plain": [
       "0.012120812327791601"
      ]
     },
     "execution_count": 94,
     "metadata": {},
     "output_type": "execute_result"
    }
   ],
   "source": [
    "portfolio_val['Daily Return'].std()"
   ]
  },
  {
   "cell_type": "markdown",
   "metadata": {},
   "source": [
    "# Sharpe Ratio"
   ]
  },
  {
   "cell_type": "markdown",
   "metadata": {},
   "source": [
    "The Sharpe ratio adjusts a portfolio’s past performance—or expected future performance—for the excess risk that was taken by the investor.\n",
    "\n",
    "A high Sharpe ratio is good when compared to similar portfolios or funds with lower returns.\n",
    "\n",
    "The Sharpe ratio has several weaknesses, including an assumption that investment returns are normally distributed.\n",
    "\n",
    "Read more- https://www.investopedia.com/terms/s/sharperatio.asp"
   ]
  },
  {
   "cell_type": "code",
   "execution_count": 95,
   "metadata": {},
   "outputs": [],
   "source": [
    "SR = portfolio_val['Daily Return'].mean()/portfolio_val['Daily Return'].std()"
   ]
  },
  {
   "cell_type": "code",
   "execution_count": 96,
   "metadata": {},
   "outputs": [
    {
     "data": {
      "text/plain": [
       "0.061542392655801297"
      ]
     },
     "execution_count": 96,
     "metadata": {},
     "output_type": "execute_result"
    }
   ],
   "source": [
    "SR"
   ]
  },
  {
   "cell_type": "code",
   "execution_count": 97,
   "metadata": {},
   "outputs": [],
   "source": [
    "ASR = (252**0.5)*SR"
   ]
  },
  {
   "cell_type": "code",
   "execution_count": 98,
   "metadata": {},
   "outputs": [
    {
     "data": {
      "text/plain": [
       "0.9769551963308287"
      ]
     },
     "execution_count": 98,
     "metadata": {},
     "output_type": "execute_result"
    }
   ],
   "source": [
    "ASR"
   ]
  },
  {
   "cell_type": "code",
   "execution_count": 99,
   "metadata": {},
   "outputs": [
    {
     "data": {
      "text/plain": [
       "0.012120812327791601"
      ]
     },
     "execution_count": 99,
     "metadata": {},
     "output_type": "execute_result"
    }
   ],
   "source": [
    "portfolio_val['Daily Return'].std()"
   ]
  },
  {
   "cell_type": "code",
   "execution_count": 100,
   "metadata": {},
   "outputs": [
    {
     "data": {
      "text/plain": [
       "0.0007459437915842276"
      ]
     },
     "execution_count": 100,
     "metadata": {},
     "output_type": "execute_result"
    }
   ],
   "source": [
    "portfolio_val['Daily Return'].mean()"
   ]
  },
  {
   "cell_type": "code",
   "execution_count": 101,
   "metadata": {},
   "outputs": [
    {
     "data": {
      "text/plain": [
       "Text(0.5, 1.0, 'AAPL RETURNS KDE')"
      ]
     },
     "execution_count": 101,
     "metadata": {},
     "output_type": "execute_result"
    },
    {
     "data": {
      "image/png": "[encoded data removed]",
      "text/plain": [
       "<Figure size 864x576 with 1 Axes>"
      ]
     },
     "metadata": {
      "needs_background": "light"
     },
     "output_type": "display_data"
    }
   ],
   "source": [
    "aapl['Adj Close'].pct_change(1).plot(kind='kde',figsize=(12,8))\n",
    "plt.title(\"AAPL RETURNS KDE\")"
   ]
  },
  {
   "cell_type": "code",
   "execution_count": 102,
   "metadata": {},
   "outputs": [
    {
     "data": {
      "text/plain": [
       "Text(0.5, 1.0, 'CSCO RETURNS KDE')"
      ]
     },
     "execution_count": 102,
     "metadata": {},
     "output_type": "execute_result"
    },
    {
     "data": {
      "image/png": "[encoded data removed]",
      "text/plain": [
       "<Figure size 864x576 with 1 Axes>"
      ]
     },
     "metadata": {
      "needs_background": "light"
     },
     "output_type": "display_data"
    }
   ],
   "source": [
    "csco['Adj Close'].pct_change(1).plot(kind='kde',figsize=(12,8))\n",
    "plt.title(\"CSCO RETURNS KDE\")"
   ]
  },
  {
   "cell_type": "code",
   "execution_count": 103,
   "metadata": {},
   "outputs": [
    {
     "data": {
      "text/plain": [
       "Text(0.5, 1.0, 'GOOG RETURNS KDE')"
      ]
     },
     "execution_count": 103,
     "metadata": {},
     "output_type": "execute_result"
    },
    {
     "data": {
      "image/png": "[encoded data removed]",
      "text/plain": [
       "<Figure size 864x576 with 1 Axes>"
      ]
     },
     "metadata": {
      "needs_background": "light"
     },
     "output_type": "display_data"
    }
   ],
   "source": [
    "goog['Adj Close'].pct_change(1).plot(kind='kde',figsize=(12,8))\n",
    "plt.title(\"GOOG RETURNS KDE\")"
   ]
  },
  {
   "cell_type": "code",
   "execution_count": 104,
   "metadata": {},
   "outputs": [
    {
     "data": {
      "text/plain": [
       "Text(0.5, 1.0, 'IBM RETURNS KDE')"
      ]
     },
     "execution_count": 104,
     "metadata": {},
     "output_type": "execute_result"
    },
    {
     "data": {
      "image/png": "[encoded data removed]",
      "text/plain": [
       "<Figure size 864x576 with 1 Axes>"
      ]
     },
     "metadata": {
      "needs_background": "light"
     },
     "output_type": "display_data"
    }
   ],
   "source": [
    "ibm['Adj Close'].pct_change(1).plot(kind='kde',figsize=(12,8))\n",
    "plt.title(\"IBM RETURNS KDE\")"
   ]
  },
  {
   "cell_type": "code",
   "execution_count": 106,
   "metadata": {},
   "outputs": [
    {
     "data": {
      "text/html": [
       "<div>\n",
       "<style scoped>\n",
       "    .dataframe tbody tr th:only-of-type {\n",
       "        vertical-align: middle;\n",
       "    }\n",
       "\n",
       "    .dataframe tbody tr th {\n",
       "        vertical-align: top;\n",
       "    }\n",
       "\n",
       "    .dataframe thead th {\n",
       "        text-align: right;\n",
       "    }\n",
       "</style>\n",
       "<table border=\"1\" class=\"dataframe\">\n",
       "  <thead>\n",
       "    <tr style=\"text-align: right;\">\n",
       "      <th></th>\n",
       "      <th>AAPL</th>\n",
       "      <th>GOOG</th>\n",
       "      <th>CSCO</th>\n",
       "      <th>IBM</th>\n",
       "      <th>Total Pos</th>\n",
       "      <th>Daily Return</th>\n",
       "    </tr>\n",
       "    <tr>\n",
       "      <th>Date</th>\n",
       "      <th></th>\n",
       "      <th></th>\n",
       "      <th></th>\n",
       "      <th></th>\n",
       "      <th></th>\n",
       "      <th></th>\n",
       "    </tr>\n",
       "  </thead>\n",
       "  <tbody>\n",
       "    <tr>\n",
       "      <th>2020-12-31</th>\n",
       "      <td>30000.000000</td>\n",
       "      <td>20000.000000</td>\n",
       "      <td>40000.000000</td>\n",
       "      <td>10000.000000</td>\n",
       "      <td>100000.000000</td>\n",
       "      <td>NaN</td>\n",
       "    </tr>\n",
       "    <tr>\n",
       "      <th>2021-01-04</th>\n",
       "      <td>29258.423100</td>\n",
       "      <td>19730.118335</td>\n",
       "      <td>39612.525063</td>\n",
       "      <td>9845.885325</td>\n",
       "      <td>98446.951823</td>\n",
       "      <td>-0.015530</td>\n",
       "    </tr>\n",
       "    <tr>\n",
       "      <th>2021-01-05</th>\n",
       "      <td>29620.164558</td>\n",
       "      <td>19874.877721</td>\n",
       "      <td>39630.547553</td>\n",
       "      <td>10020.655000</td>\n",
       "      <td>99146.244832</td>\n",
       "      <td>0.007103</td>\n",
       "    </tr>\n",
       "    <tr>\n",
       "      <th>2021-01-06</th>\n",
       "      <td>28623.105594</td>\n",
       "      <td>19810.603857</td>\n",
       "      <td>40009.012964</td>\n",
       "      <td>10270.892505</td>\n",
       "      <td>98713.614919</td>\n",
       "      <td>-0.004364</td>\n",
       "    </tr>\n",
       "    <tr>\n",
       "      <th>2021-01-07</th>\n",
       "      <td>29599.817897</td>\n",
       "      <td>20403.794724</td>\n",
       "      <td>40513.628928</td>\n",
       "      <td>10247.061561</td>\n",
       "      <td>100764.303109</td>\n",
       "      <td>0.020774</td>\n",
       "    </tr>\n",
       "    <tr>\n",
       "      <th>2021-01-08</th>\n",
       "      <td>29855.299962</td>\n",
       "      <td>20631.663766</td>\n",
       "      <td>40603.741377</td>\n",
       "      <td>10210.518241</td>\n",
       "      <td>101301.223345</td>\n",
       "      <td>0.005328</td>\n",
       "    </tr>\n",
       "    <tr>\n",
       "      <th>2021-01-11</th>\n",
       "      <td>29161.202060</td>\n",
       "      <td>20169.417606</td>\n",
       "      <td>40874.071849</td>\n",
       "      <td>10214.490781</td>\n",
       "      <td>100419.182296</td>\n",
       "      <td>-0.008707</td>\n",
       "    </tr>\n",
       "    <tr>\n",
       "      <th>2021-01-12</th>\n",
       "      <td>29120.505282</td>\n",
       "      <td>19939.151585</td>\n",
       "      <td>41261.546785</td>\n",
       "      <td>10264.538774</td>\n",
       "      <td>100585.742426</td>\n",
       "      <td>0.001659</td>\n",
       "    </tr>\n",
       "    <tr>\n",
       "      <th>2021-01-13</th>\n",
       "      <td>29593.035677</td>\n",
       "      <td>20028.769317</td>\n",
       "      <td>40874.071849</td>\n",
       "      <td>10082.618771</td>\n",
       "      <td>100578.495613</td>\n",
       "      <td>-0.000072</td>\n",
       "    </tr>\n",
       "    <tr>\n",
       "      <th>2021-01-14</th>\n",
       "      <td>29145.378030</td>\n",
       "      <td>19866.429765</td>\n",
       "      <td>40684.840862</td>\n",
       "      <td>10245.472053</td>\n",
       "      <td>99942.120711</td>\n",
       "      <td>-0.006327</td>\n",
       "    </tr>\n",
       "    <tr>\n",
       "      <th>2021-01-15</th>\n",
       "      <td>28745.194200</td>\n",
       "      <td>19820.877418</td>\n",
       "      <td>40937.148844</td>\n",
       "      <td>10199.396601</td>\n",
       "      <td>99702.617063</td>\n",
       "      <td>-0.002396</td>\n",
       "    </tr>\n",
       "    <tr>\n",
       "      <th>2021-01-19</th>\n",
       "      <td>28901.197363</td>\n",
       "      <td>20445.007425</td>\n",
       "      <td>40720.882404</td>\n",
       "      <td>10249.444594</td>\n",
       "      <td>100316.531786</td>\n",
       "      <td>0.006157</td>\n",
       "    </tr>\n",
       "    <tr>\n",
       "      <th>2021-01-20</th>\n",
       "      <td>29850.777330</td>\n",
       "      <td>21541.429997</td>\n",
       "      <td>40856.049359</td>\n",
       "      <td>10333.651644</td>\n",
       "      <td>102581.908330</td>\n",
       "      <td>0.022582</td>\n",
       "    </tr>\n",
       "    <tr>\n",
       "      <th>2021-01-21</th>\n",
       "      <td>30945.057334</td>\n",
       "      <td>21591.090654</td>\n",
       "      <td>40648.795882</td>\n",
       "      <td>10458.372713</td>\n",
       "      <td>103643.316584</td>\n",
       "      <td>0.010347</td>\n",
       "    </tr>\n",
       "    <tr>\n",
       "      <th>2021-01-22</th>\n",
       "      <td>31442.460478</td>\n",
       "      <td>21702.971020</td>\n",
       "      <td>40342.420431</td>\n",
       "      <td>9422.466424</td>\n",
       "      <td>102910.318353</td>\n",
       "      <td>-0.007072</td>\n",
       "    </tr>\n",
       "    <tr>\n",
       "      <th>2021-01-25</th>\n",
       "      <td>32312.909932</td>\n",
       "      <td>21684.133835</td>\n",
       "      <td>40576.705923</td>\n",
       "      <td>9420.083391</td>\n",
       "      <td>103993.833081</td>\n",
       "      <td>0.010529</td>\n",
       "    </tr>\n",
       "    <tr>\n",
       "      <th>2021-01-26</th>\n",
       "      <td>32367.171151</td>\n",
       "      <td>21887.800362</td>\n",
       "      <td>40783.959400</td>\n",
       "      <td>9730.695774</td>\n",
       "      <td>104769.626687</td>\n",
       "      <td>0.007460</td>\n",
       "    </tr>\n",
       "    <tr>\n",
       "      <th>2021-01-27</th>\n",
       "      <td>32118.471307</td>\n",
       "      <td>20900.861177</td>\n",
       "      <td>41180.447300</td>\n",
       "      <td>9729.107495</td>\n",
       "      <td>103928.887279</td>\n",
       "      <td>-0.008025</td>\n",
       "    </tr>\n",
       "    <tr>\n",
       "      <th>2021-01-28</th>\n",
       "      <td>30994.799376</td>\n",
       "      <td>21269.835607</td>\n",
       "      <td>40856.049359</td>\n",
       "      <td>9539.244254</td>\n",
       "      <td>102659.928596</td>\n",
       "      <td>-0.012210</td>\n",
       "    </tr>\n",
       "    <tr>\n",
       "      <th>2021-01-29</th>\n",
       "      <td>29834.953300</td>\n",
       "      <td>20957.371340</td>\n",
       "      <td>40171.211934</td>\n",
       "      <td>9462.186303</td>\n",
       "      <td>100425.722876</td>\n",
       "      <td>-0.021763</td>\n",
       "    </tr>\n",
       "    <tr>\n",
       "      <th>2021-02-01</th>\n",
       "      <td>30327.830356</td>\n",
       "      <td>21706.395076</td>\n",
       "      <td>40910.116828</td>\n",
       "      <td>9575.786960</td>\n",
       "      <td>102520.129220</td>\n",
       "      <td>0.020855</td>\n",
       "    </tr>\n",
       "    <tr>\n",
       "      <th>2021-02-02</th>\n",
       "      <td>30520.009393</td>\n",
       "      <td>22005.046058</td>\n",
       "      <td>41297.591765</td>\n",
       "      <td>9488.402122</td>\n",
       "      <td>103311.049338</td>\n",
       "      <td>0.007715</td>\n",
       "    </tr>\n",
       "    <tr>\n",
       "      <th>2021-02-03</th>\n",
       "      <td>30282.614401</td>\n",
       "      <td>23632.555456</td>\n",
       "      <td>41243.524296</td>\n",
       "      <td>9462.981056</td>\n",
       "      <td>104621.675209</td>\n",
       "      <td>0.012686</td>\n",
       "    </tr>\n",
       "    <tr>\n",
       "      <th>2021-02-04</th>\n",
       "      <td>31062.625036</td>\n",
       "      <td>23544.650449</td>\n",
       "      <td>42577.157603</td>\n",
       "      <td>9613.917945</td>\n",
       "      <td>106798.351032</td>\n",
       "      <td>0.020805</td>\n",
       "    </tr>\n",
       "    <tr>\n",
       "      <th>2021-02-05</th>\n",
       "      <td>30966.392134</td>\n",
       "      <td>23951.412130</td>\n",
       "      <td>43325.075460</td>\n",
       "      <td>9675.087576</td>\n",
       "      <td>107917.967301</td>\n",
       "      <td>0.010483</td>\n",
       "    </tr>\n",
       "    <tr>\n",
       "      <th>2021-02-08</th>\n",
       "      <td>31000.358517</td>\n",
       "      <td>23893.302124</td>\n",
       "      <td>44100.021896</td>\n",
       "      <td>9819.670119</td>\n",
       "      <td>108813.352657</td>\n",
       "      <td>0.008297</td>\n",
       "    </tr>\n",
       "    <tr>\n",
       "      <th>2021-02-09</th>\n",
       "      <td>30796.570585</td>\n",
       "      <td>23785.989953</td>\n",
       "      <td>43703.537434</td>\n",
       "      <td>9829.330002</td>\n",
       "      <td>108115.427973</td>\n",
       "      <td>-0.006414</td>\n",
       "    </tr>\n",
       "    <tr>\n",
       "      <th>2021-02-10</th>\n",
       "      <td>30656.185877</td>\n",
       "      <td>23921.500068</td>\n",
       "      <td>42568.148077</td>\n",
       "      <td>9840.600274</td>\n",
       "      <td>106986.434295</td>\n",
       "      <td>-0.010442</td>\n",
       "    </tr>\n",
       "    <tr>\n",
       "      <th>2021-02-11</th>\n",
       "      <td>30597.315650</td>\n",
       "      <td>23927.322496</td>\n",
       "      <td>42874.523528</td>\n",
       "      <td>9733.532689</td>\n",
       "      <td>107132.694364</td>\n",
       "      <td>0.001367</td>\n",
       "    </tr>\n",
       "    <tr>\n",
       "      <th>2021-02-12</th>\n",
       "      <td>30651.656335</td>\n",
       "      <td>24021.166993</td>\n",
       "      <td>42613.202582</td>\n",
       "      <td>9724.677388</td>\n",
       "      <td>107010.703298</td>\n",
       "      <td>-0.001139</td>\n",
       "    </tr>\n",
       "    <tr>\n",
       "      <th>2021-02-16</th>\n",
       "      <td>30158.043358</td>\n",
       "      <td>24224.260753</td>\n",
       "      <td>41910.339230</td>\n",
       "      <td>9665.910443</td>\n",
       "      <td>105958.553784</td>\n",
       "      <td>-0.009832</td>\n",
       "    </tr>\n",
       "    <tr>\n",
       "      <th>2021-02-17</th>\n",
       "      <td>29625.934456</td>\n",
       "      <td>24297.441065</td>\n",
       "      <td>41676.053738</td>\n",
       "      <td>9657.860336</td>\n",
       "      <td>105257.289595</td>\n",
       "      <td>-0.006618</td>\n",
       "    </tr>\n",
       "    <tr>\n",
       "      <th>2021-02-18</th>\n",
       "      <td>29370.072338</td>\n",
       "      <td>24170.604668</td>\n",
       "      <td>41757.153223</td>\n",
       "      <td>9719.042252</td>\n",
       "      <td>105016.872481</td>\n",
       "      <td>-0.002284</td>\n",
       "    </tr>\n",
       "    <tr>\n",
       "      <th>2021-02-19</th>\n",
       "      <td>29406.298309</td>\n",
       "      <td>23987.258108</td>\n",
       "      <td>41162.424810</td>\n",
       "      <td>9578.967818</td>\n",
       "      <td>104134.949045</td>\n",
       "      <td>-0.008398</td>\n",
       "    </tr>\n",
       "    <tr>\n",
       "      <th>2021-02-22</th>\n",
       "      <td>28530.020222</td>\n",
       "      <td>23573.302704</td>\n",
       "      <td>40937.148844</td>\n",
       "      <td>9729.507329</td>\n",
       "      <td>102769.979099</td>\n",
       "      <td>-0.013108</td>\n",
       "    </tr>\n",
       "    <tr>\n",
       "      <th>2021-02-23</th>\n",
       "      <td>28498.320338</td>\n",
       "      <td>23641.574784</td>\n",
       "      <td>41009.235366</td>\n",
       "      <td>9717.431862</td>\n",
       "      <td>102866.562350</td>\n",
       "      <td>0.000940</td>\n",
       "    </tr>\n",
       "    <tr>\n",
       "      <th>2021-02-24</th>\n",
       "      <td>28382.841201</td>\n",
       "      <td>23919.103090</td>\n",
       "      <td>41216.492280</td>\n",
       "      <td>9918.687597</td>\n",
       "      <td>103437.124168</td>\n",
       "      <td>0.005547</td>\n",
       "    </tr>\n",
       "    <tr>\n",
       "      <th>2021-02-25</th>\n",
       "      <td>27395.611792</td>\n",
       "      <td>23190.629263</td>\n",
       "      <td>41018.248329</td>\n",
       "      <td>9859.116072</td>\n",
       "      <td>101463.605456</td>\n",
       "      <td>-0.019079</td>\n",
       "    </tr>\n",
       "    <tr>\n",
       "      <th>2021-02-26</th>\n",
       "      <td>27456.748517</td>\n",
       "      <td>23253.418952</td>\n",
       "      <td>40432.529443</td>\n",
       "      <td>9574.137876</td>\n",
       "      <td>100716.834788</td>\n",
       "      <td>-0.007360</td>\n",
       "    </tr>\n",
       "    <tr>\n",
       "      <th>2021-03-01</th>\n",
       "      <td>28935.327860</td>\n",
       "      <td>23763.157339</td>\n",
       "      <td>41378.687813</td>\n",
       "      <td>9719.846832</td>\n",
       "      <td>103797.019844</td>\n",
       "      <td>0.030583</td>\n",
       "    </tr>\n",
       "    <tr>\n",
       "      <th>2021-03-02</th>\n",
       "      <td>28330.763560</td>\n",
       "      <td>23698.427770</td>\n",
       "      <td>41018.248329</td>\n",
       "      <td>9686.841211</td>\n",
       "      <td>102734.280871</td>\n",
       "      <td>-0.010239</td>\n",
       "    </tr>\n",
       "  </tbody>\n",
       "</table>\n",
       "</div>"
      ],
      "text/plain": [
       "                    AAPL          GOOG          CSCO           IBM  \\\n",
       "Date                                                                 \n",
       "2020-12-31  30000.000000  20000.000000  40000.000000  10000.000000   \n",
       "2021-01-04  29258.423100  19730.118335  39612.525063   9845.885325   \n",
       "2021-01-05  29620.164558  19874.877721  39630.547553  10020.655000   \n",
       "2021-01-06  28623.105594  19810.603857  40009.012964  10270.892505   \n",
       "2021-01-07  29599.817897  20403.794724  40513.628928  10247.061561   \n",
       "2021-01-08  29855.299962  20631.663766  40603.741377  10210.518241   \n",
       "2021-01-11  29161.202060  20169.417606  40874.071849  10214.490781   \n",
       "2021-01-12  29120.505282  19939.151585  41261.546785  10264.538774   \n",
       "2021-01-13  29593.035677  20028.769317  40874.071849  10082.618771   \n",
       "2021-01-14  29145.378030  19866.429765  40684.840862  10245.472053   \n",
       "2021-01-15  28745.194200  19820.877418  40937.148844  10199.396601   \n",
       "2021-01-19  28901.197363  20445.007425  40720.882404  10249.444594   \n",
       "2021-01-20  29850.777330  21541.429997  40856.049359  10333.651644   \n",
       "2021-01-21  30945.057334  21591.090654  40648.795882  10458.372713   \n",
       "2021-01-22  31442.460478  21702.971020  40342.420431   9422.466424   \n",
       "2021-01-25  32312.909932  21684.133835  40576.705923   9420.083391   \n",
       "2021-01-26  32367.171151  21887.800362  40783.959400   9730.695774   \n",
       "2021-01-27  32118.471307  20900.861177  41180.447300   9729.107495   \n",
       "2021-01-28  30994.799376  21269.835607  40856.049359   9539.244254   \n",
       "2021-01-29  29834.953300  20957.371340  40171.211934   9462.186303   \n",
       "2021-02-01  30327.830356  21706.395076  40910.116828   9575.786960   \n",
       "2021-02-02  30520.009393  22005.046058  41297.591765   9488.402122   \n",
       "2021-02-03  30282.614401  23632.555456  41243.524296   9462.981056   \n",
       "2021-02-04  31062.625036  23544.650449  42577.157603   9613.917945   \n",
       "2021-02-05  30966.392134  23951.412130  43325.075460   9675.087576   \n",
       "2021-02-08  31000.358517  23893.302124  44100.021896   9819.670119   \n",
       "2021-02-09  30796.570585  23785.989953  43703.537434   9829.330002   \n",
       "2021-02-10  30656.185877  23921.500068  42568.148077   9840.600274   \n",
       "2021-02-11  30597.315650  23927.322496  42874.523528   9733.532689   \n",
       "2021-02-12  30651.656335  24021.166993  42613.202582   9724.677388   \n",
       "2021-02-16  30158.043358  24224.260753  41910.339230   9665.910443   \n",
       "2021-02-17  29625.934456  24297.441065  41676.053738   9657.860336   \n",
       "2021-02-18  29370.072338  24170.604668  41757.153223   9719.042252   \n",
       "2021-02-19  29406.298309  23987.258108  41162.424810   9578.967818   \n",
       "2021-02-22  28530.020222  23573.302704  40937.148844   9729.507329   \n",
       "2021-02-23  28498.320338  23641.574784  41009.235366   9717.431862   \n",
       "2021-02-24  28382.841201  23919.103090  41216.492280   9918.687597   \n",
       "2021-02-25  27395.611792  23190.629263  41018.248329   9859.116072   \n",
       "2021-02-26  27456.748517  23253.418952  40432.529443   9574.137876   \n",
       "2021-03-01  28935.327860  23763.157339  41378.687813   9719.846832   \n",
       "2021-03-02  28330.763560  23698.427770  41018.248329   9686.841211   \n",
       "\n",
       "                Total Pos  Daily Return  \n",
       "Date                                     \n",
       "2020-12-31  100000.000000           NaN  \n",
       "2021-01-04   98446.951823     -0.015530  \n",
       "2021-01-05   99146.244832      0.007103  \n",
       "2021-01-06   98713.614919     -0.004364  \n",
       "2021-01-07  100764.303109      0.020774  \n",
       "2021-01-08  101301.223345      0.005328  \n",
       "2021-01-11  100419.182296     -0.008707  \n",
       "2021-01-12  100585.742426      0.001659  \n",
       "2021-01-13  100578.495613     -0.000072  \n",
       "2021-01-14   99942.120711     -0.006327  \n",
       "2021-01-15   99702.617063     -0.002396  \n",
       "2021-01-19  100316.531786      0.006157  \n",
       "2021-01-20  102581.908330      0.022582  \n",
       "2021-01-21  103643.316584      0.010347  \n",
       "2021-01-22  102910.318353     -0.007072  \n",
       "2021-01-25  103993.833081      0.010529  \n",
       "2021-01-26  104769.626687      0.007460  \n",
       "2021-01-27  103928.887279     -0.008025  \n",
       "2021-01-28  102659.928596     -0.012210  \n",
       "2021-01-29  100425.722876     -0.021763  \n",
       "2021-02-01  102520.129220      0.020855  \n",
       "2021-02-02  103311.049338      0.007715  \n",
       "2021-02-03  104621.675209      0.012686  \n",
       "2021-02-04  106798.351032      0.020805  \n",
       "2021-02-05  107917.967301      0.010483  \n",
       "2021-02-08  108813.352657      0.008297  \n",
       "2021-02-09  108115.427973     -0.006414  \n",
       "2021-02-10  106986.434295     -0.010442  \n",
       "2021-02-11  107132.694364      0.001367  \n",
       "2021-02-12  107010.703298     -0.001139  \n",
       "2021-02-16  105958.553784     -0.009832  \n",
       "2021-02-17  105257.289595     -0.006618  \n",
       "2021-02-18  105016.872481     -0.002284  \n",
       "2021-02-19  104134.949045     -0.008398  \n",
       "2021-02-22  102769.979099     -0.013108  \n",
       "2021-02-23  102866.562350      0.000940  \n",
       "2021-02-24  103437.124168      0.005547  \n",
       "2021-02-25  101463.605456     -0.019079  \n",
       "2021-02-26  100716.834788     -0.007360  \n",
       "2021-03-01  103797.019844      0.030583  \n",
       "2021-03-02  102734.280871     -0.010239  "
      ]
     },
     "execution_count": 106,
     "metadata": {},
     "output_type": "execute_result"
    }
   ],
   "source": [
    "portfolio_val"
   ]
  },
  {
   "cell_type": "code",
   "execution_count": null,
   "metadata": {},
   "outputs": [],
   "source": []
  }
 ],
 "metadata": {
  "kernelspec": {
   "display_name": "Python 3",
   "language": "python",
   "name": "python3"
  },
  "language_info": {
   "codemirror_mode": {
    "name": "ipython",
    "version": 3
   },
   "file_extension": ".py",
   "mimetype": "text/x-python",
   "name": "python",
   "nbconvert_exporter": "python",
   "pygments_lexer": "ipython3",
   "version": "3.7.4"
  }
 },
 "nbformat": 4,
 "nbformat_minor": 2
}
